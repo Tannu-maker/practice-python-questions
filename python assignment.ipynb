{
 "cells": [
  {
   "cell_type": "markdown",
   "id": "448696fd-b9c7-418a-a350-0dec43ec4370",
   "metadata": {},
   "source": [
    "Question1: Write a Python function to remove duplicates from a list while maintaining the original order."
   ]
  },
  {
   "cell_type": "code",
   "execution_count": 84,
   "id": "0a3a76f8-7d78-4abb-936e-aa24a602575b",
   "metadata": {},
   "outputs": [],
   "source": [
    "def remove_duplicates(lst):\n",
    "    items=set()\n",
    "    return[i for i in lst if not(i in items or items.add(i))]"
   ]
  },
  {
   "cell_type": "code",
   "execution_count": 85,
   "id": "78ab9964-d609-430e-b1e4-26156846946f",
   "metadata": {},
   "outputs": [],
   "source": [
    "fruits = ('apple','banana','pineapple','fig','apple','fig')"
   ]
  },
  {
   "cell_type": "code",
   "execution_count": 86,
   "id": "f5e5cfe2-37f6-4321-8c90-3516b6046044",
   "metadata": {},
   "outputs": [
    {
     "data": {
      "text/plain": [
       "['apple', 'banana', 'pineapple', 'fig']"
      ]
     },
     "execution_count": 86,
     "metadata": {},
     "output_type": "execute_result"
    }
   ],
   "source": [
    "remove_duplicates(fruits)"
   ]
  },
  {
   "cell_type": "markdown",
   "id": "97ae6484-c096-475e-bd8b-18d437472576",
   "metadata": {},
   "source": [
    "Question2: Write a Python function to count the frequency of characters in a string using a dictionary."
   ]
  },
  {
   "cell_type": "code",
   "execution_count": 96,
   "id": "4292e6fc-96d8-40d7-9214-f1ae97142b18",
   "metadata": {},
   "outputs": [],
   "source": [
    "def count_frequency(input_string):\n",
    "    frequency_dict={}\n",
    "    for char in input_string:\n",
    "        if char in frequency_dict:\n",
    "            frequency_dict[char]+=1\n",
    "        else:\n",
    "            frequency_dict[char]= 1\n",
    "    return frequency_dict"
   ]
  },
  {
   "cell_type": "code",
   "execution_count": 97,
   "id": "6f6de1f5-a2c1-4996-bdd1-beb0def60a00",
   "metadata": {},
   "outputs": [
    {
     "name": "stdout",
     "output_type": "stream",
     "text": [
      "{'t': 1, 'a': 2, 'n': 2, 'u': 1, 'p': 1, 'l': 1}\n"
     ]
    }
   ],
   "source": [
    "input_string='tannupal'\n",
    "result=count_frequency(input_string)\n",
    "print(result)"
   ]
  },
  {
   "cell_type": "markdown",
   "id": "4d52926b-8b48-43e9-8b82-4b04d0c026aa",
   "metadata": {},
   "source": [
    "Question3: Write a Python function to sort a list of tuples based on the second element in each tuple."
   ]
  },
  {
   "cell_type": "code",
   "execution_count": 99,
   "id": "1330743e-f2f8-4dd6-8e2c-b02227b2291d",
   "metadata": {},
   "outputs": [
    {
     "name": "stdout",
     "output_type": "stream",
     "text": [
      "[(5, 0), (4, 1), (2, 2), (1, 3)]\n"
     ]
    }
   ],
   "source": [
    "def sort_second_element(tuple_list):\n",
    "    return sorted(tuple_list,key=lambda x:x[1])\n",
    "tuple_list =[(1,3),(4,1),(2,2),(5,0)]\n",
    "sorted_list= sort_second_element(tuple_list)\n",
    "print(sorted_list)"
   ]
  },
  {
   "cell_type": "markdown",
   "id": "fa5cebee-e40a-4d08-8bbf-408977b21a2d",
   "metadata": {},
   "source": [
    "Question4: Write a Python program to merge two dictionaries."
   ]
  },
  {
   "cell_type": "code",
   "execution_count": 102,
   "id": "09bf1538-37d9-4a82-a628-d2ef03e3c0b4",
   "metadata": {},
   "outputs": [],
   "source": [
    "def merge_dictioneries(dict1,dict2):\n",
    "    merged_dict=dict1.copy()\n",
    "    merged_dict.update(dict2)\n",
    "    return merged_dict"
   ]
  },
  {
   "cell_type": "code",
   "execution_count": 103,
   "id": "7fad8300-dcb5-46b6-8ad8-9f8180d62066",
   "metadata": {},
   "outputs": [
    {
     "name": "stdout",
     "output_type": "stream",
     "text": [
      "merged dictionery: {'a': 1, 'b': 2, 'c': 3, 'd': 4, 'e': 5, 'f': 6}\n"
     ]
    }
   ],
   "source": [
    "dict1={'a':1,'b':2,'c':3}\n",
    "dict2={'d':4,'e':5,'f':6}\n",
    "result = merge_dictioneries(dict1,dict2)\n",
    "print('merged dictionery:',result)"
   ]
  },
  {
   "cell_type": "markdown",
   "id": "ebc39ef5-b940-4dce-8c01-95d4fc9137af",
   "metadata": {},
   "source": [
    "Question5: Write a Python function to find the second largest number in a list."
   ]
  },
  {
   "cell_type": "code",
   "execution_count": 122,
   "id": "724e7f21-1572-40b8-86a5-27d3758932c3",
   "metadata": {},
   "outputs": [],
   "source": [
    "def second_largest(numbers):\n",
    "    unique_numbers = set(numbers)\n",
    "    if len(numbers)<2:\n",
    "        return None\n",
    "    unique_numbers.remove(max(unique_numbers))\n",
    "    return max(unique_numbers)\n",
    "    "
   ]
  },
  {
   "cell_type": "code",
   "execution_count": 123,
   "id": "d62152a3-e99c-4562-97b0-122bd8d72329",
   "metadata": {},
   "outputs": [
    {
     "name": "stdout",
     "output_type": "stream",
     "text": [
      "second largest number: 45\n"
     ]
    }
   ],
   "source": [
    "numbers=[10,20,4,45,99,45]\n",
    "result=second_largest(numbers)\n",
    "print('second largest number:',result)"
   ]
  },
  {
   "cell_type": "markdown",
   "id": "58b93362-dc8f-456c-b895-094fc6fe0700",
   "metadata": {},
   "source": [
    "Question6: Write a Python function to find the smallest number in a list."
   ]
  },
  {
   "cell_type": "code",
   "execution_count": 109,
   "id": "aaa1e05f-38ad-4a9a-bd57-2ba1ea4749f3",
   "metadata": {},
   "outputs": [],
   "source": [
    "def smallest_numbers(list):\n",
    "    return min(list) \n",
    "    "
   ]
  },
  {
   "cell_type": "code",
   "execution_count": 110,
   "id": "35a15e8b-99f7-4b79-93e2-4bfe87274183",
   "metadata": {},
   "outputs": [
    {
     "data": {
      "text/plain": [
       "1"
      ]
     },
     "execution_count": 110,
     "metadata": {},
     "output_type": "execute_result"
    }
   ],
   "source": [
    "list=[2,1,6,8,5,4,5,4,46,36,7,8,10]\n",
    "smallest_numbers(list)"
   ]
  },
  {
   "cell_type": "markdown",
   "id": "e72bb654-d89d-4bb9-a2d2-9812a3c6d06d",
   "metadata": {},
   "source": [
    "Question7: Write a Python program to reverse a given list.\n"
   ]
  },
  {
   "cell_type": "code",
   "execution_count": 111,
   "id": "2070de60-72db-48a9-9456-dfc2f32eb6b5",
   "metadata": {},
   "outputs": [
    {
     "name": "stdout",
     "output_type": "stream",
     "text": [
      "['tannu', 'deepak', 'sanvi']\n"
     ]
    }
   ],
   "source": [
    "lst=['tannu','deepak','sanvi']\n",
    "print(lst)"
   ]
  },
  {
   "cell_type": "code",
   "execution_count": 112,
   "id": "6a401400-2351-48e4-9f9a-891ee9b3e84c",
   "metadata": {},
   "outputs": [],
   "source": [
    "lst.reverse()"
   ]
  },
  {
   "cell_type": "code",
   "execution_count": 114,
   "id": "1950b2e4-9392-4c8f-8050-25c1080466cc",
   "metadata": {},
   "outputs": [
    {
     "name": "stdout",
     "output_type": "stream",
     "text": [
      "['sanvi', 'deepak', 'tannu']\n"
     ]
    }
   ],
   "source": [
    "print(lst)"
   ]
  },
  {
   "cell_type": "markdown",
   "id": "8299d06f-7a52-4a8f-8188-d36c0166c43d",
   "metadata": {},
   "source": [
    "Question8: Write a Python program to count the number of vowels in a given string."
   ]
  },
  {
   "cell_type": "code",
   "execution_count": 117,
   "id": "e7929aa3-6285-4d76-981a-6247cb7f91a2",
   "metadata": {},
   "outputs": [],
   "source": [
    "def count_vowels(string):\n",
    "    vowels='aeiouAEIOU'\n",
    "    count= 0\n",
    "    for char in string:\n",
    "        if char in vowels:\n",
    "            count+=1\n",
    "    return count"
   ]
  },
  {
   "cell_type": "code",
   "execution_count": 118,
   "id": "771f41fc-8334-4e80-84ea-dba65d955739",
   "metadata": {},
   "outputs": [
    {
     "name": "stdout",
     "output_type": "stream",
     "text": [
      "number of vowels: 7\n"
     ]
    }
   ],
   "source": [
    "string='hello how are you?'\n",
    "print('number of vowels:',count_vowels(string))"
   ]
  },
  {
   "cell_type": "markdown",
   "id": "e0cdf0b2-e88e-4ccd-8b12-462542d8ecea",
   "metadata": {},
   "source": [
    "Question9: Write a Python program to find the maximum of three numbers."
   ]
  },
  {
   "cell_type": "code",
   "execution_count": 120,
   "id": "244824f0-02b3-439f-853a-c2201d9f8118",
   "metadata": {},
   "outputs": [],
   "source": [
    "def maximum_num(num1,num2,num3):\n",
    "    return max(num1,num2,num3)   "
   ]
  },
  {
   "cell_type": "code",
   "execution_count": 121,
   "id": "8648b0db-71ca-4a23-a225-a21af4022eb9",
   "metadata": {},
   "outputs": [
    {
     "name": "stdout",
     "output_type": "stream",
     "text": [
      "The maximum number is: 30\n"
     ]
    }
   ],
   "source": [
    "num1=10\n",
    "num2=20\n",
    "num3=30\n",
    "print('The maximum number is:',maximum_num(num1,num2,num3))"
   ]
  },
  {
   "cell_type": "markdown",
   "id": "6cdb05e8-5e7a-495b-8ae8-09cca836f6a5",
   "metadata": {},
   "source": []
  },
  {
   "cell_type": "code",
   "execution_count": null,
   "id": "dda64db9-9bc3-4b15-b14e-522fdb34a869",
   "metadata": {},
   "outputs": [],
   "source": []
  }
 ],
 "metadata": {
  "kernelspec": {
   "display_name": "Python 3 (ipykernel)",
   "language": "python",
   "name": "python3"
  },
  "language_info": {
   "codemirror_mode": {
    "name": "ipython",
    "version": 3
   },
   "file_extension": ".py",
   "mimetype": "text/x-python",
   "name": "python",
   "nbconvert_exporter": "python",
   "pygments_lexer": "ipython3",
   "version": "3.11.2"
  }
 },
 "nbformat": 4,
 "nbformat_minor": 5
}

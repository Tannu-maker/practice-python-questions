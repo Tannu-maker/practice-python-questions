{
 "cells": [
  {
   "cell_type": "markdown",
   "id": "da829bcf-2111-47f4-a3b3-f7d6f16ae698",
   "metadata": {},
   "source": [
    "numpy: numerical python"
   ]
  },
  {
   "cell_type": "code",
   "execution_count": 3,
   "id": "f83f4bf7-7155-47d3-9bf1-ee1fa58ddc9d",
   "metadata": {},
   "outputs": [
    {
     "name": "stdout",
     "output_type": "stream",
     "text": [
      "Collecting numpy\n",
      "  Downloading numpy-2.1.3-cp311-cp311-win_amd64.whl (12.9 MB)\n",
      "     --------------------------------------- 12.9/12.9 MB 19.8 MB/s eta 0:00:00\n",
      "Installing collected packages: numpy\n",
      "Successfully installed numpy-2.1.3\n"
     ]
    },
    {
     "name": "stderr",
     "output_type": "stream",
     "text": [
      "\n",
      "[notice] A new release of pip available: 22.3.1 -> 24.3.1\n",
      "[notice] To update, run: python.exe -m pip install --upgrade pip\n"
     ]
    }
   ],
   "source": [
    "!pip install numpy"
   ]
  },
  {
   "cell_type": "code",
   "execution_count": 1,
   "id": "13845bcb-841a-43d1-978b-4c66b5a0bfac",
   "metadata": {},
   "outputs": [],
   "source": [
    "import numpy as np"
   ]
  },
  {
   "cell_type": "code",
   "execution_count": 2,
   "id": "352167b5-9b97-435e-bcbb-f2699d66e163",
   "metadata": {},
   "outputs": [
    {
     "data": {
      "text/plain": [
       "'2.1.3'"
      ]
     },
     "execution_count": 2,
     "metadata": {},
     "output_type": "execute_result"
    }
   ],
   "source": [
    "np.__version__"
   ]
  },
  {
   "cell_type": "code",
   "execution_count": 3,
   "id": "28f1fcef-1607-499d-9c16-ee6caf81f6fe",
   "metadata": {},
   "outputs": [],
   "source": [
    "lst = [1,2,3,4,5,6,7,8,9,10]"
   ]
  },
  {
   "cell_type": "code",
   "execution_count": 4,
   "id": "8aef87e5-c457-490e-be49-ca140580defd",
   "metadata": {},
   "outputs": [],
   "source": [
    "lst2 = []\n",
    "for i in lst:\n",
    "    lst2.append(i+1)"
   ]
  },
  {
   "cell_type": "code",
   "execution_count": 5,
   "id": "ef45f610-3772-4069-b7ab-d47fcf61be24",
   "metadata": {},
   "outputs": [
    {
     "data": {
      "text/plain": [
       "[2, 3, 4, 5, 6, 7, 8, 9, 10, 11]"
      ]
     },
     "execution_count": 5,
     "metadata": {},
     "output_type": "execute_result"
    }
   ],
   "source": [
    "lst2"
   ]
  },
  {
   "cell_type": "code",
   "execution_count": 6,
   "id": "146e0309-d285-4e9a-bc2d-16e311c16bde",
   "metadata": {},
   "outputs": [
    {
     "name": "stdout",
     "output_type": "stream",
     "text": [
      "939 ns ± 199 ns per loop (mean ± std. dev. of 7 runs, 1,000,000 loops each)\n"
     ]
    }
   ],
   "source": [
    "%timeit [i**2 for i in lst]"
   ]
  },
  {
   "cell_type": "markdown",
   "id": "48b8d703-095f-4ee3-a321-631288c60bbb",
   "metadata": {},
   "source": [
    "we can perform fast calculations:\n"
   ]
  },
  {
   "cell_type": "code",
   "execution_count": 7,
   "id": "f82a0dab-cdcb-4318-bdbf-9e31a6dd4bbf",
   "metadata": {},
   "outputs": [
    {
     "ename": "SyntaxError",
     "evalue": "invalid syntax (2726178334.py, line 1)",
     "output_type": "error",
     "traceback": [
      "\u001b[1;36m  Cell \u001b[1;32mIn[7], line 1\u001b[1;36m\u001b[0m\n\u001b[1;33m    vectorization: it will be performing all operations directly on elements\u001b[0m\n\u001b[1;37m                      ^\u001b[0m\n\u001b[1;31mSyntaxError\u001b[0m\u001b[1;31m:\u001b[0m invalid syntax\n"
     ]
    }
   ],
   "source": [
    "vectorization: it will be performing all operations directly on elements\n"
   ]
  },
  {
   "cell_type": "code",
   "execution_count": null,
   "id": "25cf33cb-ad4a-4424-80fa-8f077319c881",
   "metadata": {},
   "outputs": [],
   "source": [
    "arr = np.array(lst)"
   ]
  },
  {
   "cell_type": "code",
   "execution_count": null,
   "id": "dea24fc2-bbb7-468b-9945-465e7b8d75f1",
   "metadata": {},
   "outputs": [],
   "source": [
    "type(lst)"
   ]
  },
  {
   "cell_type": "code",
   "execution_count": null,
   "id": "3fa13772-d570-4d1a-924e-9663db2fc874",
   "metadata": {},
   "outputs": [],
   "source": [
    "type(arr)"
   ]
  },
  {
   "cell_type": "code",
   "execution_count": null,
   "id": "7954118b-e6ca-49fc-bc6d-d6b0dd01fce0",
   "metadata": {},
   "outputs": [],
   "source": [
    "arr.ndim"
   ]
  },
  {
   "cell_type": "code",
   "execution_count": null,
   "id": "b4b75648-92cf-484b-8900-86795d2278ae",
   "metadata": {},
   "outputs": [],
   "source": [
    "arr + 1"
   ]
  },
  {
   "cell_type": "code",
   "execution_count": null,
   "id": "99243204-0ebd-4dbc-ae06-5a03df7535dd",
   "metadata": {},
   "outputs": [],
   "source": [
    "#lst +1 not possible but it s possible in array:\n"
   ]
  },
  {
   "cell_type": "code",
   "execution_count": null,
   "id": "f2619bb1-ba6d-4314-9de6-20f2807675cf",
   "metadata": {},
   "outputs": [],
   "source": [
    "arr**2"
   ]
  },
  {
   "cell_type": "code",
   "execution_count": null,
   "id": "42104f42-1f8b-4fa1-b895-4794a65bd28c",
   "metadata": {},
   "outputs": [],
   "source": [
    "[i**2 for i in lst]"
   ]
  },
  {
   "cell_type": "code",
   "execution_count": null,
   "id": "98a560cc-e470-4bd9-a693-94629c2e303a",
   "metadata": {},
   "outputs": [],
   "source": [
    "Numpy Basics:"
   ]
  },
  {
   "cell_type": "code",
   "execution_count": null,
   "id": "9a84b9aa-2c57-45ba-b93b-831461ee7448",
   "metadata": {},
   "outputs": [],
   "source": [
    "#arr = np.array()\n",
    "# arr = np.arange()\n"
   ]
  },
  {
   "cell_type": "code",
   "execution_count": null,
   "id": "43d5536a-ff54-4e47-b077-f7b434fe5536",
   "metadata": {},
   "outputs": [],
   "source": [
    "lst3 = list(range(1,10))"
   ]
  },
  {
   "cell_type": "code",
   "execution_count": null,
   "id": "e4019cb8-b588-4441-a56c-4c81e858ac8c",
   "metadata": {},
   "outputs": [],
   "source": [
    "lst3"
   ]
  },
  {
   "cell_type": "code",
   "execution_count": null,
   "id": "5b9e8364-543c-49da-9dbf-1cecbe91a44c",
   "metadata": {},
   "outputs": [],
   "source": [
    "arr3"
   ]
  },
  {
   "cell_type": "code",
   "execution_count": null,
   "id": "2002425f-02f8-4c98-9f59-23d912fa5e19",
   "metadata": {},
   "outputs": [],
   "source": [
    "arr3 = np.array(lst3)"
   ]
  },
  {
   "cell_type": "code",
   "execution_count": null,
   "id": "3ceabe17-8736-404c-b9f5-22958dd74f9a",
   "metadata": {},
   "outputs": [],
   "source": [
    "type(arr3)"
   ]
  },
  {
   "cell_type": "code",
   "execution_count": null,
   "id": "85ced9dc-a6b0-4dc8-ae32-b6b8afc63a47",
   "metadata": {},
   "outputs": [],
   "source": [
    "arr3.ndim"
   ]
  },
  {
   "cell_type": "code",
   "execution_count": null,
   "id": "6e9e3c17-dc19-4348-9cf2-f13a42abf5c2",
   "metadata": {},
   "outputs": [],
   "source": [
    "arr3.dtype"
   ]
  },
  {
   "cell_type": "code",
   "execution_count": null,
   "id": "113536fc-0ff0-45da-b320-3475e22206e0",
   "metadata": {},
   "outputs": [],
   "source": [
    "arr4 = np.arange(1,15)"
   ]
  },
  {
   "cell_type": "code",
   "execution_count": null,
   "id": "a9f01828-d781-4621-b83d-d2547247e343",
   "metadata": {},
   "outputs": [],
   "source": [
    "arr4"
   ]
  },
  {
   "cell_type": "code",
   "execution_count": null,
   "id": "f3e0a203-c1d8-42af-a79b-26bebd2514c2",
   "metadata": {},
   "outputs": [],
   "source": [
    "type(arr4)"
   ]
  },
  {
   "cell_type": "code",
   "execution_count": null,
   "id": "4ae3c82c-bf59-459e-b068-1d8274f787af",
   "metadata": {},
   "outputs": [],
   "source": [
    "arr4.shape"
   ]
  },
  {
   "cell_type": "code",
   "execution_count": null,
   "id": "06db8b3a-e609-44f1-825d-4fcb4fc01558",
   "metadata": {},
   "outputs": [],
   "source": [
    "list(range(1,20))"
   ]
  },
  {
   "cell_type": "code",
   "execution_count": null,
   "id": "dffd5875-d09b-42ac-bae9-4f7aa0a54b73",
   "metadata": {},
   "outputs": [],
   "source": [
    "arr3.shape"
   ]
  },
  {
   "cell_type": "code",
   "execution_count": null,
   "id": "4a020694-f819-4a0d-8fae-62cd5f3afa93",
   "metadata": {},
   "outputs": [],
   "source": [
    "arr3.ndim"
   ]
  },
  {
   "cell_type": "code",
   "execution_count": null,
   "id": "d3f4f5ca-62b3-43c7-924e-714ec4a5acfa",
   "metadata": {},
   "outputs": [],
   "source": [
    "lst2d = [[1,2,3],[4,5,6],[7,8,9]]"
   ]
  },
  {
   "cell_type": "code",
   "execution_count": null,
   "id": "e6e8d77a-28f2-4cba-92ff-078f3cc94fb1",
   "metadata": {},
   "outputs": [],
   "source": [
    "lst2d"
   ]
  },
  {
   "cell_type": "code",
   "execution_count": null,
   "id": "52c3aeee-3751-4389-896c-01d62802016a",
   "metadata": {},
   "outputs": [],
   "source": [
    "arr5 = np.array(lst2d)"
   ]
  },
  {
   "cell_type": "code",
   "execution_count": null,
   "id": "9a940e2f-eee9-4b48-b100-9c4d925c392e",
   "metadata": {},
   "outputs": [],
   "source": [
    "arr5"
   ]
  },
  {
   "cell_type": "code",
   "execution_count": null,
   "id": "3517c31f-1629-493c-bbe1-ced5b1ae6c87",
   "metadata": {},
   "outputs": [],
   "source": [
    "arr5.ndim"
   ]
  },
  {
   "cell_type": "code",
   "execution_count": null,
   "id": "6f4c996a-cf30-4e8b-aff4-36126b48a1f8",
   "metadata": {},
   "outputs": [],
   "source": [
    "arr5.dtype"
   ]
  },
  {
   "cell_type": "code",
   "execution_count": null,
   "id": "4ba0b20b-6c64-4661-9377-647d61c406d1",
   "metadata": {},
   "outputs": [],
   "source": [
    "arr5.shape"
   ]
  },
  {
   "cell_type": "code",
   "execution_count": null,
   "id": "eaeea195-a0ac-46e3-9c9f-9dde469a5c6a",
   "metadata": {},
   "outputs": [],
   "source": [
    "some special arrays in numpy;\n",
    "#zeros\n",
    "#ones()\n",
    "#diaganol()\n",
    "#identity()\n"
   ]
  },
  {
   "cell_type": "code",
   "execution_count": null,
   "id": "8bc580a9-1d96-4ae9-a1b3-65036758c5f3",
   "metadata": {},
   "outputs": [],
   "source": [
    "np.zeros(5)"
   ]
  },
  {
   "cell_type": "code",
   "execution_count": null,
   "id": "796ea9cc-deba-4189-9b1d-a9d1b0647167",
   "metadata": {},
   "outputs": [],
   "source": [
    "np.zeros(10)"
   ]
  },
  {
   "cell_type": "code",
   "execution_count": null,
   "id": "f0ec22fa-6d8b-4c97-bc0f-2c99e983db59",
   "metadata": {},
   "outputs": [],
   "source": [
    "np.zeros((3,4))"
   ]
  },
  {
   "cell_type": "code",
   "execution_count": null,
   "id": "6c1851ee-9338-4259-954f-77c5c5537cfb",
   "metadata": {},
   "outputs": [],
   "source": [
    "np.ones(2)"
   ]
  },
  {
   "cell_type": "code",
   "execution_count": null,
   "id": "5f91577b-5667-45e4-9472-e9cc9cbe4405",
   "metadata": {},
   "outputs": [],
   "source": [
    "np.ones((2,3))"
   ]
  },
  {
   "cell_type": "code",
   "execution_count": null,
   "id": "531aa5c6-37d9-477c-9975-8a86a842cb21",
   "metadata": {},
   "outputs": [],
   "source": [
    "np.diag([5])"
   ]
  },
  {
   "cell_type": "code",
   "execution_count": null,
   "id": "4c7c14b3-bebf-4987-a6ff-d65e3a7dbc1a",
   "metadata": {},
   "outputs": [],
   "source": [
    "np.diag([1,2,3,4,4,5])"
   ]
  },
  {
   "cell_type": "code",
   "execution_count": null,
   "id": "a4e03d5c-be6b-4f54-a2e2-a0c2bacad207",
   "metadata": {},
   "outputs": [],
   "source": [
    "np.identity(4)"
   ]
  },
  {
   "cell_type": "code",
   "execution_count": null,
   "id": "f96db6c2-a3a0-4a66-8016-c42047aade39",
   "metadata": {},
   "outputs": [],
   "source": [
    "np.identity(6)"
   ]
  },
  {
   "cell_type": "code",
   "execution_count": null,
   "id": "de97426c-0997-4a4d-8c2d-d542038614b1",
   "metadata": {},
   "outputs": [],
   "source": [
    "np.eye(3)"
   ]
  },
  {
   "cell_type": "markdown",
   "id": "d4920623-dc98-447f-8fb2-64796bb81286",
   "metadata": {},
   "source": [
    "#stacking\n",
    "vstack\n",
    "hstack"
   ]
  },
  {
   "cell_type": "markdown",
   "id": "8f9de7bb-e7ba-4528-9bd4-353af62f1d42",
   "metadata": {},
   "source": [
    "transpose: converting our rows into columns and columns into rows"
   ]
  },
  {
   "cell_type": "code",
   "execution_count": null,
   "id": "fc77d261-6711-470b-bea9-731739057550",
   "metadata": {},
   "outputs": [],
   "source": [
    "arr1= np.arange(0,2)"
   ]
  },
  {
   "cell_type": "code",
   "execution_count": null,
   "id": "4770c4cb-cbf5-48a1-9dda-d7ced9e8050b",
   "metadata": {},
   "outputs": [],
   "source": [
    "arr1"
   ]
  },
  {
   "cell_type": "code",
   "execution_count": null,
   "id": "f166a126-80b0-40b6-8269-017c95a24a66",
   "metadata": {},
   "outputs": [],
   "source": [
    "arr2 = np.arange(0,12)"
   ]
  },
  {
   "cell_type": "code",
   "execution_count": null,
   "id": "577dd5e8-f045-474e-b5e0-f4fd2724bc4d",
   "metadata": {},
   "outputs": [],
   "source": [
    "arr2"
   ]
  },
  {
   "cell_type": "code",
   "execution_count": null,
   "id": "a31ddbea-8683-4d58-adbb-7cdd0bc8992d",
   "metadata": {},
   "outputs": [],
   "source": [
    "arr3=np.arange(4,20)"
   ]
  },
  {
   "cell_type": "code",
   "execution_count": null,
   "id": "8f77d47d-29f5-4ed0-b4ed-14158e0eb54d",
   "metadata": {},
   "outputs": [],
   "source": [
    "arr3"
   ]
  },
  {
   "cell_type": "code",
   "execution_count": null,
   "id": "88b96650-9e7e-4b2b-9338-a82e6684c73d",
   "metadata": {},
   "outputs": [],
   "source": [
    "A = np.random.randint(0,10,size=(3,3))"
   ]
  },
  {
   "cell_type": "code",
   "execution_count": null,
   "id": "49a9f906-52ed-4bd1-8ae8-53b0611adeef",
   "metadata": {},
   "outputs": [],
   "source": [
    "B= np.array([1,2,3])"
   ]
  },
  {
   "cell_type": "code",
   "execution_count": null,
   "id": "f301715c-eaf2-47fb-9f16-cc1ea62d6533",
   "metadata": {},
   "outputs": [],
   "source": [
    "A"
   ]
  },
  {
   "cell_type": "code",
   "execution_count": null,
   "id": "2d91363b-3b45-4aba-bd30-936b774b45d9",
   "metadata": {},
   "outputs": [],
   "source": [
    "B"
   ]
  },
  {
   "cell_type": "code",
   "execution_count": null,
   "id": "49537772-701f-477b-8693-978430c03eb0",
   "metadata": {},
   "outputs": [],
   "source": [
    "A.shape"
   ]
  },
  {
   "cell_type": "code",
   "execution_count": null,
   "id": "9dd046b7-fb3f-47ad-8af6-bda52631979e",
   "metadata": {},
   "outputs": [],
   "source": [
    "A +B"
   ]
  },
  {
   "cell_type": "code",
   "execution_count": null,
   "id": "4abf93a0-eb9c-4606-87de-a519000daf62",
   "metadata": {},
   "outputs": [],
   "source": [
    "A.T + B"
   ]
  },
  {
   "cell_type": "markdown",
   "id": "66630fb4-0ad4-43bd-884b-586aac3a1879",
   "metadata": {},
   "source": [
    "vectorization: it will be performing all operations directly on elements"
   ]
  },
  {
   "cell_type": "code",
   "execution_count": null,
   "id": "27119ff0-3342-43f2-b8cb-bd8271d83e82",
   "metadata": {},
   "outputs": [],
   "source": [
    "total = 0 \n",
    "for i in range(len(p)):\n",
    "    total += (q[i]-p[i])**2"
   ]
  },
  {
   "cell_type": "code",
   "execution_count": null,
   "id": "eb375ff9-308f-4d36-87a1-7d67f9c4e881",
   "metadata": {},
   "outputs": [],
   "source": [
    "p = [1,2,3,4,5,-6,7,8]\n",
    "q = [9,9,6,7,5,-4,3,2]"
   ]
  },
  {
   "cell_type": "code",
   "execution_count": null,
   "id": "b8a86833-53ed-46cd-aebe-85424ab0eeb3",
   "metadata": {},
   "outputs": [],
   "source": [
    "p = np.array(p)"
   ]
  },
  {
   "cell_type": "code",
   "execution_count": null,
   "id": "59986add-2819-48d8-bdaf-9b40a93e4880",
   "metadata": {},
   "outputs": [],
   "source": [
    "q = np.array(q)"
   ]
  },
  {
   "cell_type": "code",
   "execution_count": null,
   "id": "726087bf-2e99-469c-9955-eab94b7f786a",
   "metadata": {},
   "outputs": [],
   "source": [
    "arr6 = np.array(lst2d)"
   ]
  },
  {
   "cell_type": "code",
   "execution_count": null,
   "id": "b057f0d5-4eb9-454f-b7e4-eeab20f75458",
   "metadata": {},
   "outputs": [],
   "source": [
    "arr6"
   ]
  },
  {
   "cell_type": "code",
   "execution_count": null,
   "id": "487c6a34-5287-4d98-8d46-382bad5f7e8f",
   "metadata": {},
   "outputs": [],
   "source": [
    "arr7= np.random.randint(0,20,(8,6))"
   ]
  },
  {
   "cell_type": "code",
   "execution_count": null,
   "id": "d59f06f5-fb3d-4e29-bb04-9c2588c19341",
   "metadata": {},
   "outputs": [],
   "source": [
    "arr7"
   ]
  },
  {
   "cell_type": "code",
   "execution_count": null,
   "id": "f77d2fda-b162-4c3a-abd0-b4d33028e621",
   "metadata": {},
   "outputs": [],
   "source": [
    "arr7"
   ]
  },
  {
   "cell_type": "code",
   "execution_count": null,
   "id": "2728665a-b70c-4746-a971-75c3e376924d",
   "metadata": {},
   "outputs": [],
   "source": [
    "arr7=[5:7,4:6]"
   ]
  },
  {
   "cell_type": "code",
   "execution_count": null,
   "id": "250c8012-951b-4100-ada8-64ec6112cb1c",
   "metadata": {},
   "outputs": [],
   "source": [
    "arr7[4]"
   ]
  },
  {
   "cell_type": "code",
   "execution_count": null,
   "id": "a04442e5-21ff-4de6-9468-5da5c6e23d71",
   "metadata": {},
   "outputs": [],
   "source": [
    "arr7[-2]"
   ]
  },
  {
   "cell_type": "code",
   "execution_count": null,
   "id": "c3e84c9b-4871-46a3-823d-8b6d997221d8",
   "metadata": {},
   "outputs": [],
   "source": [
    "arr7[-2:]"
   ]
  },
  {
   "cell_type": "code",
   "execution_count": null,
   "id": "0b7a1933-a4ef-4bfb-b561-8ae1c1af4616",
   "metadata": {},
   "outputs": [],
   "source": [
    "arr7[5:7,1:3]"
   ]
  },
  {
   "cell_type": "code",
   "execution_count": null,
   "id": "04a8cc1a-4f74-4274-90cd-96a29f75ae54",
   "metadata": {},
   "outputs": [],
   "source": [
    "arr7=[6:7,2:1]"
   ]
  },
  {
   "cell_type": "code",
   "execution_count": null,
   "id": "191ca649-100c-434d-ab2d-a471d322a347",
   "metadata": {},
   "outputs": [],
   "source": [
    "arr7"
   ]
  },
  {
   "cell_type": "code",
   "execution_count": null,
   "id": "f1ed309c-f212-420d-9b6f-e7c310589ed4",
   "metadata": {},
   "outputs": [],
   "source": [
    "arr7[5:7,2:4]"
   ]
  },
  {
   "cell_type": "code",
   "execution_count": null,
   "id": "a5637123-2221-49e2-a12d-64f00201a5a9",
   "metadata": {},
   "outputs": [],
   "source": [
    "arr7[5:7,4:6]"
   ]
  },
  {
   "cell_type": "code",
   "execution_count": null,
   "id": "8f61090e-2170-408f-852d-276111a9ad76",
   "metadata": {},
   "outputs": [],
   "source": [
    "arr7"
   ]
  },
  {
   "cell_type": "code",
   "execution_count": null,
   "id": "1f7fe481-b08e-45fa-8089-6afb6253c333",
   "metadata": {},
   "outputs": [],
   "source": [
    "arr7[-3:-1,-2:]"
   ]
  },
  {
   "cell_type": "markdown",
   "id": "416b7245-3153-493b-879d-6e9ccf5acf4a",
   "metadata": {},
   "source": [
    "#masking : boolean indexing : true,false"
   ]
  },
  {
   "cell_type": "code",
   "execution_count": null,
   "id": "cf51c059-49fb-4733-bb9c-24c6159b4d7c",
   "metadata": {},
   "outputs": [],
   "source": [
    "arr5>11"
   ]
  },
  {
   "cell_type": "code",
   "execution_count": null,
   "id": "9f5a5bfb-798b-4a08-95ff-590e2e2fc5da",
   "metadata": {},
   "outputs": [],
   "source": [
    "arr7==0"
   ]
  },
  {
   "cell_type": "code",
   "execution_count": null,
   "id": "96845d31-aac4-4bd5-a627-b3e6dc7f1ca5",
   "metadata": {},
   "outputs": [],
   "source": [
    "arr7[arr7>10]"
   ]
  },
  {
   "cell_type": "markdown",
   "id": "5f596942-f286-4c1f-9e0e-e2ed16236de4",
   "metadata": {},
   "source": [
    "#basic oprations "
   ]
  },
  {
   "cell_type": "code",
   "execution_count": null,
   "id": "a1daedca-a264-4131-bace-47406550b207",
   "metadata": {},
   "outputs": [],
   "source": [
    "a = np.array([10,20,30,40])"
   ]
  },
  {
   "cell_type": "code",
   "execution_count": null,
   "id": "e8de7d3e-d60b-4889-8d91-844e570981cd",
   "metadata": {},
   "outputs": [],
   "source": [
    " b = np.array([1,2,3,4])"
   ]
  },
  {
   "cell_type": "code",
   "execution_count": null,
   "id": "c37c4873-a347-464e-b6e7-6df7c1dfb230",
   "metadata": {},
   "outputs": [],
   "source": [
    "c= a+b"
   ]
  },
  {
   "cell_type": "code",
   "execution_count": null,
   "id": "4301ca43-af33-4abf-9496-4eadcbd00f0f",
   "metadata": {},
   "outputs": [],
   "source": [
    "c"
   ]
  },
  {
   "cell_type": "code",
   "execution_count": null,
   "id": "cf7f31b9-1e7c-4c75-b0d7-867f1f73c786",
   "metadata": {},
   "outputs": [],
   "source": [
    "6"
   ]
  },
  {
   "cell_type": "code",
   "execution_count": 12,
   "id": "dd60d5e7-b2f7-41ec-a32f-fe25c7f1f7ce",
   "metadata": {},
   "outputs": [],
   "source": [
    "arr8=np.random.randint(0,20,(8,6))"
   ]
  },
  {
   "cell_type": "code",
   "execution_count": 13,
   "id": "d22e3337-96aa-4238-af5d-48a3ad6e7bab",
   "metadata": {},
   "outputs": [
    {
     "data": {
      "text/plain": [
       "array([[ 0,  7, 10,  9,  8,  5],\n",
       "       [11, 14,  6, 13,  6,  6],\n",
       "       [ 4, 12,  8, 12,  4,  8],\n",
       "       [16, 16,  1, 16,  3, 18],\n",
       "       [16, 15, 18,  9,  8, 17],\n",
       "       [ 1,  3, 12, 11, 12, 14],\n",
       "       [ 8,  5,  4,  8, 16, 17],\n",
       "       [ 1,  1, 14,  3,  9, 13]], dtype=int32)"
      ]
     },
     "execution_count": 13,
     "metadata": {},
     "output_type": "execute_result"
    }
   ],
   "source": [
    "arr8"
   ]
  },
  {
   "cell_type": "code",
   "execution_count": 14,
   "id": "de479f2b-9774-4c88-8278-23ee964568a9",
   "metadata": {},
   "outputs": [
    {
     "data": {
      "text/plain": [
       "array([ 5,  6,  8, 18, 17, 14, 17, 13], dtype=int32)"
      ]
     },
     "execution_count": 14,
     "metadata": {},
     "output_type": "execute_result"
    }
   ],
   "source": [
    "arr8[:,-1]"
   ]
  },
  {
   "cell_type": "code",
   "execution_count": 15,
   "id": "beef4a35-e012-4ad2-ad68-78d877d4ec17",
   "metadata": {},
   "outputs": [
    {
     "data": {
      "text/plain": [
       "array([ 0, 11,  4, 16, 16,  1,  8,  1], dtype=int32)"
      ]
     },
     "execution_count": 15,
     "metadata": {},
     "output_type": "execute_result"
    }
   ],
   "source": [
    "arr8[:,0]"
   ]
  },
  {
   "cell_type": "code",
   "execution_count": 16,
   "id": "a88120a6-3517-4428-b2f8-cb9ca4cb0948",
   "metadata": {},
   "outputs": [
    {
     "data": {
      "text/plain": [
       "array([], shape=(0, 0), dtype=int32)"
      ]
     },
     "execution_count": 16,
     "metadata": {},
     "output_type": "execute_result"
    }
   ],
   "source": [
    "arr8[-3:-5,-1:-3]"
   ]
  },
  {
   "cell_type": "code",
   "execution_count": 18,
   "id": "1b103b6c-707c-4230-a5fa-3176e0baaebb",
   "metadata": {},
   "outputs": [
    {
     "data": {
      "text/plain": [
       "array([[ 0,  7, 10,  9,  8,  5],\n",
       "       [11, 14,  6, 13,  6,  6],\n",
       "       [ 4, 12,  8, 12,  4,  8],\n",
       "       [16, 16,  1, 16,  3, 18],\n",
       "       [16, 15, 18,  9,  8, 17],\n",
       "       [ 1,  3, 12, 11, 12, 14]], dtype=int32)"
      ]
     },
     "execution_count": 18,
     "metadata": {},
     "output_type": "execute_result"
    }
   ],
   "source": [
    "arr8[:-2]"
   ]
  },
  {
   "cell_type": "code",
   "execution_count": 19,
   "id": "0d1f95c9-37e0-432d-9121-2b13b91c06fe",
   "metadata": {},
   "outputs": [
    {
     "data": {
      "text/plain": [
       "array([[11, 12, 14],\n",
       "       [ 8, 16, 17],\n",
       "       [ 3,  9, 13]], dtype=int32)"
      ]
     },
     "execution_count": 19,
     "metadata": {},
     "output_type": "execute_result"
    }
   ],
   "source": [
    "arr8[-3:,-3:]"
   ]
  },
  {
   "cell_type": "code",
   "execution_count": 20,
   "id": "dd5e2796-fdcf-4321-952e-1e93d747942d",
   "metadata": {},
   "outputs": [
    {
     "data": {
      "text/plain": [
       "array([[ 0,  7, 10,  9,  8,  5],\n",
       "       [11, 14,  6, 13,  6,  6],\n",
       "       [ 4, 12,  8, 12,  4,  8],\n",
       "       [16, 16,  1, 16,  3, 18],\n",
       "       [16, 15, 18,  9,  8, 17],\n",
       "       [ 1,  3, 12, 11, 12, 14],\n",
       "       [ 8,  5,  4,  8, 16, 17],\n",
       "       [ 1,  1, 14,  3,  9, 13]], dtype=int32)"
      ]
     },
     "execution_count": 20,
     "metadata": {},
     "output_type": "execute_result"
    }
   ],
   "source": [
    "arr8"
   ]
  },
  {
   "cell_type": "code",
   "execution_count": 22,
   "id": "fe56ba0b-cefe-4e5a-8595-797790422beb",
   "metadata": {},
   "outputs": [
    {
     "data": {
      "text/plain": [
       "array([[ 0,  7, 10,  9,  8,  5],\n",
       "       [11, 14,  6, 13,  6,  6],\n",
       "       [ 4, 12,  8, 12,  4,  8],\n",
       "       [16, 16,  1, 16,  3, 18],\n",
       "       [16, 15, 18,  9,  8, 17],\n",
       "       [ 1,  3, 12, 11, 12, 14],\n",
       "       [ 8,  5,  4,  8, 16, 17]], dtype=int32)"
      ]
     },
     "execution_count": 22,
     "metadata": {},
     "output_type": "execute_result"
    }
   ],
   "source": [
    "arr8[:-1]"
   ]
  },
  {
   "cell_type": "code",
   "execution_count": 23,
   "id": "08141484-8872-401c-b0a5-485bff46d225",
   "metadata": {},
   "outputs": [
    {
     "data": {
      "text/plain": [
       "array([ 0, 11,  4, 16, 16,  1,  8,  1], dtype=int32)"
      ]
     },
     "execution_count": 23,
     "metadata": {},
     "output_type": "execute_result"
    }
   ],
   "source": [
    "arr8[:,0]"
   ]
  },
  {
   "cell_type": "code",
   "execution_count": 24,
   "id": "0e55d95c-919d-4557-a66e-32556d35345b",
   "metadata": {},
   "outputs": [
    {
     "data": {
      "text/plain": [
       "array([ 5,  6,  8, 18, 17, 14, 17, 13], dtype=int32)"
      ]
     },
     "execution_count": 24,
     "metadata": {},
     "output_type": "execute_result"
    }
   ],
   "source": [
    "arr8[:,-1]"
   ]
  },
  {
   "cell_type": "code",
   "execution_count": 25,
   "id": "bfd694ba-8719-4190-b687-8d33b76155f5",
   "metadata": {},
   "outputs": [
    {
     "data": {
      "text/plain": [
       "array([ 5,  6,  8, 18, 17, 14, 17, 13], dtype=int32)"
      ]
     },
     "execution_count": 25,
     "metadata": {},
     "output_type": "execute_result"
    }
   ],
   "source": [
    "arr8[:,5]"
   ]
  },
  {
   "cell_type": "code",
   "execution_count": 26,
   "id": "a8217882-18a0-4b78-9e17-fbaf4cde6a37",
   "metadata": {},
   "outputs": [
    {
     "data": {
      "text/plain": [
       "array([[ 0,  7, 10,  9,  8,  5],\n",
       "       [11, 14,  6, 13,  6,  6],\n",
       "       [ 4, 12,  8, 12,  4,  8],\n",
       "       [16, 16,  1, 16,  3, 18],\n",
       "       [16, 15, 18,  9,  8, 17],\n",
       "       [ 1,  3, 12, 11, 12, 14],\n",
       "       [ 8,  5,  4,  8, 16, 17],\n",
       "       [ 1,  1, 14,  3,  9, 13]], dtype=int32)"
      ]
     },
     "execution_count": 26,
     "metadata": {},
     "output_type": "execute_result"
    }
   ],
   "source": [
    "arr8"
   ]
  },
  {
   "cell_type": "markdown",
   "id": "19a198c0-9410-4f32-ac51-5e6cb6dc65f7",
   "metadata": {},
   "source": [
    "#masking: boolean indexing:True ,false"
   ]
  },
  {
   "cell_type": "code",
   "execution_count": 27,
   "id": "014d4cdc-390c-4344-9000-c8ea0e7d469d",
   "metadata": {},
   "outputs": [
    {
     "data": {
      "text/plain": [
       "array([[False, False, False, False, False, False],\n",
       "       [ True,  True, False,  True, False, False],\n",
       "       [False,  True, False,  True, False, False],\n",
       "       [ True,  True, False,  True, False,  True],\n",
       "       [ True,  True,  True, False, False,  True],\n",
       "       [False, False,  True,  True,  True,  True],\n",
       "       [False, False, False, False,  True,  True],\n",
       "       [False, False,  True, False, False,  True]])"
      ]
     },
     "execution_count": 27,
     "metadata": {},
     "output_type": "execute_result"
    }
   ],
   "source": [
    "arr8>10"
   ]
  },
  {
   "cell_type": "markdown",
   "id": "bab6a9a6-e8a3-432c-9007-636994802ee1",
   "metadata": {},
   "source": []
  },
  {
   "cell_type": "code",
   "execution_count": 28,
   "id": "c7eebb0a-d2fb-4421-bca0-504a5de67e70",
   "metadata": {},
   "outputs": [
    {
     "data": {
      "text/plain": [
       "array([[False, False, False, False, False, False],\n",
       "       [False, False, False, False, False, False],\n",
       "       [False, False, False, False, False, False],\n",
       "       [False, False, False, False, False, False],\n",
       "       [False, False, False, False, False, False],\n",
       "       [False, False, False, False, False, False],\n",
       "       [False, False, False, False, False, False],\n",
       "       [False, False, False, False, False, False]])"
      ]
     },
     "execution_count": 28,
     "metadata": {},
     "output_type": "execute_result"
    }
   ],
   "source": [
    "arr8>150"
   ]
  },
  {
   "cell_type": "code",
   "execution_count": 29,
   "id": "561dec04-9329-461a-a820-339cd97975af",
   "metadata": {},
   "outputs": [
    {
     "data": {
      "text/plain": [
       "array([16, 16, 16, 18, 16, 18, 17, 16, 17], dtype=int32)"
      ]
     },
     "execution_count": 29,
     "metadata": {},
     "output_type": "execute_result"
    }
   ],
   "source": [
    "arr8[arr8>15]"
   ]
  },
  {
   "cell_type": "code",
   "execution_count": 32,
   "id": "5cd367ad-1fc1-4af5-be06-e66a47c84a0a",
   "metadata": {},
   "outputs": [],
   "source": [
    "p=np.random.randint(0,20,(8,6))"
   ]
  },
  {
   "cell_type": "code",
   "execution_count": 33,
   "id": "f3bc609a-d61c-4214-b435-62e1d69ef625",
   "metadata": {},
   "outputs": [],
   "source": [
    "q=np.random.randint(0,20,(6,8))"
   ]
  },
  {
   "cell_type": "code",
   "execution_count": 34,
   "id": "17a4329c-1748-4131-af5b-e66dbdfc69c1",
   "metadata": {},
   "outputs": [
    {
     "data": {
      "text/plain": [
       "array([[596, 534, 506, 661, 674, 219, 364, 672],\n",
       "       [485, 507, 563, 365, 479,  75, 268, 574],\n",
       "       [386, 495, 394, 253, 437,  73, 344, 451],\n",
       "       [693, 698, 797, 871, 828, 201, 767, 749],\n",
       "       [431, 435, 567, 712, 555, 136, 612, 474],\n",
       "       [602, 531, 700, 533, 739, 179, 470, 643],\n",
       "       [562, 552, 454, 598, 689, 218, 534, 576],\n",
       "       [424, 450, 343, 353, 484, 132, 401, 420]], dtype=int32)"
      ]
     },
     "execution_count": 34,
     "metadata": {},
     "output_type": "execute_result"
    }
   ],
   "source": [
    "np.dot(p,q)"
   ]
  },
  {
   "cell_type": "code",
   "execution_count": 37,
   "id": "6047cb12-480d-4f92-8046-14c3bd6eaa68",
   "metadata": {},
   "outputs": [],
   "source": [
    "r=np.arange(0,24)"
   ]
  },
  {
   "cell_type": "code",
   "execution_count": 38,
   "id": "b25b5011-f4f9-4dc7-8742-1a598ed2e9b8",
   "metadata": {},
   "outputs": [
    {
     "data": {
      "text/plain": [
       "array([ 0,  1,  2,  3,  4,  5,  6,  7,  8,  9, 10, 11, 12, 13, 14, 15, 16,\n",
       "       17, 18, 19, 20, 21, 22, 23])"
      ]
     },
     "execution_count": 38,
     "metadata": {},
     "output_type": "execute_result"
    }
   ],
   "source": [
    "r"
   ]
  },
  {
   "cell_type": "code",
   "execution_count": 39,
   "id": "60322db7-4ddb-4b06-8bd6-22e988c0519e",
   "metadata": {},
   "outputs": [
    {
     "data": {
      "text/plain": [
       "(24,)"
      ]
     },
     "execution_count": 39,
     "metadata": {},
     "output_type": "execute_result"
    }
   ],
   "source": [
    "r.shape"
   ]
  },
  {
   "cell_type": "code",
   "execution_count": 45,
   "id": "b041d231-1433-4403-8c72-5fdc37013e13",
   "metadata": {},
   "outputs": [],
   "source": [
    "arr9=r.reshape(8,3)"
   ]
  },
  {
   "cell_type": "code",
   "execution_count": 41,
   "id": "9aaae1ff-f33a-499e-ab05-c9ce710c50a1",
   "metadata": {},
   "outputs": [
    {
     "data": {
      "text/plain": [
       "array([ 0,  1,  2,  3,  4,  5,  6,  7,  8,  9, 10, 11, 12, 13, 14, 15, 16,\n",
       "       17, 18, 19, 20, 21, 22, 23])"
      ]
     },
     "execution_count": 41,
     "metadata": {},
     "output_type": "execute_result"
    }
   ],
   "source": [
    "r"
   ]
  },
  {
   "cell_type": "code",
   "execution_count": 42,
   "id": "5c89b659-de2d-4fcd-b0bf-83f54fe15266",
   "metadata": {},
   "outputs": [
    {
     "ename": "ValueError",
     "evalue": "cannot reshape array of size 24 into shape (10,5)",
     "output_type": "error",
     "traceback": [
      "\u001b[1;31m---------------------------------------------------------------------------\u001b[0m",
      "\u001b[1;31mValueError\u001b[0m                                Traceback (most recent call last)",
      "Cell \u001b[1;32mIn[42], line 1\u001b[0m\n\u001b[1;32m----> 1\u001b[0m \u001b[43mr\u001b[49m\u001b[38;5;241;43m.\u001b[39;49m\u001b[43mreshape\u001b[49m\u001b[43m(\u001b[49m\u001b[38;5;241;43m10\u001b[39;49m\u001b[43m,\u001b[49m\u001b[38;5;241;43m5\u001b[39;49m\u001b[43m)\u001b[49m\n",
      "\u001b[1;31mValueError\u001b[0m: cannot reshape array of size 24 into shape (10,5)"
     ]
    }
   ],
   "source": [
    "r.reshape(10,5)"
   ]
  },
  {
   "cell_type": "code",
   "execution_count": 43,
   "id": "313f19bc-31df-4b00-941a-6c4ac65630a6",
   "metadata": {},
   "outputs": [
    {
     "data": {
      "text/plain": [
       "array([ 0,  1,  2,  3,  4,  5,  6,  7,  8,  9, 10, 11, 12, 13, 14, 15, 16,\n",
       "       17, 18, 19, 20, 21, 22, 23])"
      ]
     },
     "execution_count": 43,
     "metadata": {},
     "output_type": "execute_result"
    }
   ],
   "source": [
    "r.flatten()"
   ]
  },
  {
   "cell_type": "code",
   "execution_count": 44,
   "id": "277d9525-c42a-4776-9ff4-a7c13be9ac90",
   "metadata": {},
   "outputs": [
    {
     "data": {
      "text/plain": [
       "array([ 0,  1,  2,  3,  4,  5,  6,  7,  8,  9, 10, 11, 12, 13, 14, 15, 16,\n",
       "       17, 18, 19, 20, 21, 22, 23])"
      ]
     },
     "execution_count": 44,
     "metadata": {},
     "output_type": "execute_result"
    }
   ],
   "source": [
    "r"
   ]
  },
  {
   "cell_type": "code",
   "execution_count": 46,
   "id": "da07b5f0-1d89-48e4-8f2b-42d018518327",
   "metadata": {},
   "outputs": [
    {
     "data": {
      "text/plain": [
       "array([[ 0,  1,  2],\n",
       "       [ 3,  4,  5],\n",
       "       [ 6,  7,  8],\n",
       "       [ 9, 10, 11],\n",
       "       [12, 13, 14],\n",
       "       [15, 16, 17],\n",
       "       [18, 19, 20],\n",
       "       [21, 22, 23]])"
      ]
     },
     "execution_count": 46,
     "metadata": {},
     "output_type": "execute_result"
    }
   ],
   "source": [
    "arr9"
   ]
  },
  {
   "cell_type": "code",
   "execution_count": 47,
   "id": "eafa54e0-58dc-45cf-b9e4-ddc7d2b98741",
   "metadata": {},
   "outputs": [
    {
     "data": {
      "text/plain": [
       "np.int64(276)"
      ]
     },
     "execution_count": 47,
     "metadata": {},
     "output_type": "execute_result"
    }
   ],
   "source": [
    "np.sum(arr9)"
   ]
  },
  {
   "cell_type": "code",
   "execution_count": 48,
   "id": "2c832f57-037e-493f-90dd-1f1c233aeb6c",
   "metadata": {},
   "outputs": [
    {
     "data": {
      "text/plain": [
       "array([ 84,  92, 100])"
      ]
     },
     "execution_count": 48,
     "metadata": {},
     "output_type": "execute_result"
    }
   ],
   "source": [
    "np.sum(arr9,axis=0) #coloumn wise sum"
   ]
  },
  {
   "cell_type": "code",
   "execution_count": 49,
   "id": "e4c72ca4-a808-4b11-ad04-b542320aeb6e",
   "metadata": {},
   "outputs": [
    {
     "data": {
      "text/plain": [
       "array([ 3, 12, 21, 30, 39, 48, 57, 66])"
      ]
     },
     "execution_count": 49,
     "metadata": {},
     "output_type": "execute_result"
    }
   ],
   "source": [
    "np.sum(arr9,axis=1) #row wise sum"
   ]
  },
  {
   "cell_type": "code",
   "execution_count": 50,
   "id": "53fb11d4-0acc-4ba8-aa41-e6714abc8c71",
   "metadata": {},
   "outputs": [
    {
     "data": {
      "text/plain": [
       "np.int64(0)"
      ]
     },
     "execution_count": 50,
     "metadata": {},
     "output_type": "execute_result"
    }
   ],
   "source": [
    "arr9.min()"
   ]
  },
  {
   "cell_type": "code",
   "execution_count": 51,
   "id": "07d3a4a6-f8c2-46ef-b33e-00b3dc3293a0",
   "metadata": {},
   "outputs": [
    {
     "data": {
      "text/plain": [
       "np.int64(23)"
      ]
     },
     "execution_count": 51,
     "metadata": {},
     "output_type": "execute_result"
    }
   ],
   "source": [
    "arr9.max()"
   ]
  },
  {
   "cell_type": "code",
   "execution_count": 52,
   "id": "d2775a88-4cf7-40a3-966e-719427e3140e",
   "metadata": {},
   "outputs": [
    {
     "data": {
      "text/plain": [
       "array([21, 22, 23])"
      ]
     },
     "execution_count": 52,
     "metadata": {},
     "output_type": "execute_result"
    }
   ],
   "source": [
    "arr9.max(axis=0)"
   ]
  },
  {
   "cell_type": "code",
   "execution_count": 53,
   "id": "b31663d3-c794-4ed7-8271-b7feb907cc22",
   "metadata": {},
   "outputs": [
    {
     "data": {
      "text/plain": [
       "array([10.5, 11.5, 12.5])"
      ]
     },
     "execution_count": 53,
     "metadata": {},
     "output_type": "execute_result"
    }
   ],
   "source": [
    "arr9.mean(axis=0)"
   ]
  },
  {
   "cell_type": "code",
   "execution_count": 54,
   "id": "903d5f7b-8a3c-4e19-ad62-41a19cffc2b9",
   "metadata": {},
   "outputs": [
    {
     "data": {
      "text/plain": [
       "array([[ 0,  1,  2],\n",
       "       [ 3,  4,  5],\n",
       "       [ 6,  7,  8],\n",
       "       [ 9, 10, 11],\n",
       "       [12, 13, 14],\n",
       "       [15, 16, 17],\n",
       "       [18, 19, 20],\n",
       "       [21, 22, 23]])"
      ]
     },
     "execution_count": 54,
     "metadata": {},
     "output_type": "execute_result"
    }
   ],
   "source": [
    "arr9"
   ]
  },
  {
   "cell_type": "code",
   "execution_count": 55,
   "id": "b3e5e895-ca69-45a4-81b7-7c8563f5eab1",
   "metadata": {},
   "outputs": [
    {
     "data": {
      "text/plain": [
       "array([[0.        , 1.        , 1.41421356],\n",
       "       [1.73205081, 2.        , 2.23606798],\n",
       "       [2.44948974, 2.64575131, 2.82842712],\n",
       "       [3.        , 3.16227766, 3.31662479],\n",
       "       [3.46410162, 3.60555128, 3.74165739],\n",
       "       [3.87298335, 4.        , 4.12310563],\n",
       "       [4.24264069, 4.35889894, 4.47213595],\n",
       "       [4.58257569, 4.69041576, 4.79583152]])"
      ]
     },
     "execution_count": 55,
     "metadata": {},
     "output_type": "execute_result"
    }
   ],
   "source": [
    "np.sqrt(arr9)"
   ]
  },
  {
   "cell_type": "code",
   "execution_count": 56,
   "id": "4df0985e-bc5e-437e-9958-6a93332e8f72",
   "metadata": {},
   "outputs": [
    {
     "data": {
      "text/plain": [
       "array([[  0,   1,   4],\n",
       "       [  9,  16,  25],\n",
       "       [ 36,  49,  64],\n",
       "       [ 81, 100, 121],\n",
       "       [144, 169, 196],\n",
       "       [225, 256, 289],\n",
       "       [324, 361, 400],\n",
       "       [441, 484, 529]])"
      ]
     },
     "execution_count": 56,
     "metadata": {},
     "output_type": "execute_result"
    }
   ],
   "source": [
    "np.square(arr9)"
   ]
  },
  {
   "cell_type": "code",
   "execution_count": null,
   "id": "f2f52000-7d13-4f99-80d9-a70efc16128f",
   "metadata": {},
   "outputs": [],
   "source": []
  }
 ],
 "metadata": {
  "kernelspec": {
   "display_name": "Python 3 (ipykernel)",
   "language": "python",
   "name": "python3"
  },
  "language_info": {
   "codemirror_mode": {
    "name": "ipython",
    "version": 3
   },
   "file_extension": ".py",
   "mimetype": "text/x-python",
   "name": "python",
   "nbconvert_exporter": "python",
   "pygments_lexer": "ipython3",
   "version": "3.11.2"
  }
 },
 "nbformat": 4,
 "nbformat_minor": 5
}
